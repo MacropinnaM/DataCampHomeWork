{
 "cells": [
  {
   "cell_type": "markdown",
   "metadata": {},
   "source": [
    "## Writing functions"
   ]
  },
  {
   "cell_type": "markdown",
   "metadata": {},
   "source": [
    "### Basic function"
   ]
  },
  {
   "cell_type": "code",
   "execution_count": 124,
   "metadata": {},
   "outputs": [
    {
     "name": "stdout",
     "output_type": "stream",
     "text": [
      "4\n",
      "4.0\n",
      "8.0\n",
      "8\n"
     ]
    }
   ],
   "source": [
    "# Built-in functions\n",
    "\n",
    "word_length = len('word')\n",
    "print(word_length)\n",
    "\n",
    "number_with_point = float(4)\n",
    "print(number_with_point)\n",
    "\n",
    "sum_of_two = word_length + number_with_point\n",
    "print(sum_of_two)\n",
    "\n",
    "rounded_value = round(sum_of_two)\n",
    "print(rounded_value)"
   ]
  },
  {
   "cell_type": "code",
   "execution_count": 126,
   "metadata": {},
   "outputs": [
    {
     "name": "stdout",
     "output_type": "stream",
     "text": [
      "MeowMeow!\n"
     ]
    }
   ],
   "source": [
    "# A simple function\n",
    "\n",
    "# Define function\n",
    "def cat_func():\n",
    "    \"\"\"Print what cat says\"\"\"\n",
    "    \n",
    "    cat_word = 2 * 'Meow' + '!'\n",
    "    print(cat_word)\n",
    "    \n",
    "# Call cat_func\n",
    "cat_func()    "
   ]
  },
  {
   "cell_type": "markdown",
   "metadata": {},
   "source": [
    "### Functions with single parameter and return value"
   ]
  },
  {
   "cell_type": "code",
   "execution_count": 128,
   "metadata": {},
   "outputs": [
    {
     "name": "stdout",
     "output_type": "stream",
     "text": [
      "MeowMeow!\n",
      "WoofWoof!\n"
     ]
    }
   ],
   "source": [
    "# Function with single parameter\n",
    "\n",
    "# Define function\n",
    "def ani_func(word):\n",
    "    \"\"\"Print what animal says\"\"\"\n",
    "    \n",
    "    ani_word = 2*word + '!'\n",
    "    print(ani_word)\n",
    "    \n",
    "# Call ani_func\n",
    "ani_func('Meow')  \n",
    "ani_func('Woof')"
   ]
  },
  {
   "cell_type": "code",
   "execution_count": 129,
   "metadata": {},
   "outputs": [
    {
     "name": "stdout",
     "output_type": "stream",
     "text": [
      "MeowMeow! WoofWoof!\n"
     ]
    }
   ],
   "source": [
    "# Function that returns single parameter\n",
    "\n",
    "# Define function\n",
    "def ani_func(word):\n",
    "    \"\"\"Return what animal says insistently\"\"\"\n",
    "    \n",
    "    ani_word = 2* word + '!'\n",
    "    return ani_word\n",
    "    \n",
    "# Call ani_func\n",
    "cat_says = ani_func('Meow')\n",
    "dog_says = ani_func('Woof')\n",
    "\n",
    "# Print what animals say\n",
    "print(cat_says, dog_says)"
   ]
  },
  {
   "cell_type": "markdown",
   "metadata": {},
   "source": [
    "### Functions with multiple parameters and return values"
   ]
  },
  {
   "cell_type": "code",
   "execution_count": 130,
   "metadata": {},
   "outputs": [
    {
     "name": "stdout",
     "output_type": "stream",
     "text": [
      "MeowMeow! WoofWoofWoof!!\n"
     ]
    }
   ],
   "source": [
    "# Function with two parameters\n",
    "\n",
    "# Define function\n",
    "def ani_func(cat_word, dog_word):\n",
    "    \"\"\"Return what animals say during debates\"\"\"\n",
    "    \n",
    "    cat_argument = 2 * cat_word + '!'\n",
    "    dog_argument = 3 * dog_word + '!!'\n",
    "    \n",
    "    debates = cat_argument + ' ' + dog_argument\n",
    "    return debates\n",
    "    \n",
    "# Call ani_debates\n",
    "ani_debates = ani_func('Meow', 'Woof')\n",
    "\n",
    "# Print animals' arguments\n",
    "print(ani_debates)"
   ]
  },
  {
   "cell_type": "code",
   "execution_count": 131,
   "metadata": {},
   "outputs": [
    {
     "name": "stdout",
     "output_type": "stream",
     "text": [
      "MeowMeow!\n",
      "WoofWoofWoof!!\n"
     ]
    }
   ],
   "source": [
    "# Function that returns multiple values\n",
    "\n",
    "# Define function\n",
    "def ani_func(cat_word, dog_word):\n",
    "    \"\"\"Return what animals say during organized debates\"\"\"\n",
    "    \n",
    "    cat_argument = 2 * cat_word + '!'\n",
    "    dog_argument = 3 * dog_word + '!!'\n",
    "    \n",
    "    # Construct a tuple of arguments\n",
    "    debates = (cat_argument, dog_argument)   \n",
    "    return debates\n",
    "    \n",
    "# Pass animals' arguments to ani_func\n",
    "(arg1, arg2) = ani_func('Meow', 'Woof')\n",
    "\n",
    "# Print what animals say\n",
    "print(arg1)\n",
    "print(arg2)"
   ]
  },
  {
   "cell_type": "markdown",
   "metadata": {},
   "source": [
    "### Nested functions"
   ]
  },
  {
   "cell_type": "code",
   "execution_count": 132,
   "metadata": {},
   "outputs": [
    {
     "name": "stdout",
     "output_type": "stream",
     "text": [
      "('Happy cat', 'Happy dog', 'Happy duck')\n"
     ]
    }
   ],
   "source": [
    "# Nested function returning tuple\n",
    "\n",
    "def our_pets(pet1, pet2, pet3):\n",
    "    \"\"\"Return a tuple of strings concatenated with 'happy'\"\"\"\n",
    "    \n",
    "    def happy(pet):\n",
    "        \"\"\"Return a string concatenated with 'happy'\"\"\"\n",
    "        \n",
    "        return 'Happy ' + pet\n",
    "\n",
    "    return (happy(pet1), happy(pet2), happy(pet3))\n",
    "\n",
    "print(our_pets('cat', 'dog', 'duck'))"
   ]
  },
  {
   "cell_type": "code",
   "execution_count": 133,
   "metadata": {},
   "outputs": [
    {
     "name": "stdout",
     "output_type": "stream",
     "text": [
      "Cat has 4 legs. Duck has 2 legs. Spider has 8 legs.\n"
     ]
    }
   ],
   "source": [
    "# Nested function returning copies of string\n",
    "\n",
    "def legs(n):\n",
    "    \"\"\"Return inner function\"\"\"\n",
    "    \n",
    "    def inner_func(pet):\n",
    "        \"\"\"Return number of legs\"\"\"\n",
    "        \n",
    "        number_of_legs = pet + ' has ' + str(n) + ' legs.'\n",
    "        \n",
    "        return number_of_legs\n",
    "    \n",
    "    return inner_func\n",
    "\n",
    "# Call legs():\n",
    "pet1 = legs(4)\n",
    "pet2 = legs(2)\n",
    "pet3 = legs(8)\n",
    "\n",
    "# Call cat, dog and spider and print\n",
    "print(pet1('Cat'), pet2('Duck'), pet3('Spider'))"
   ]
  },
  {
   "cell_type": "markdown",
   "metadata": {},
   "source": [
    "## Scope of functions, default and variable-length arguments"
   ]
  },
  {
   "cell_type": "markdown",
   "metadata": {},
   "source": [
    "### Scope of function"
   ]
  },
  {
   "cell_type": "code",
   "execution_count": 136,
   "metadata": {},
   "outputs": [
    {
     "name": "stdout",
     "output_type": "stream",
     "text": [
      "stray cat\n",
      "happy cat\n",
      "First cat is still a stray cat :(\n"
     ]
    }
   ],
   "source": [
    "# Local scope\n",
    "\n",
    "# Create a string\n",
    "cat = \"stray cat\"\n",
    "\n",
    "# Define find_parents()\n",
    "def domestic_cat():\n",
    "    \"\"\"Doen't change the value of the global variable cat\"\"\"\n",
    "\n",
    "    # Use cat in local scope and change its value\n",
    "    cat = \"happy cat\"\n",
    "    print(cat)\n",
    "\n",
    "# How function domestic_cat() works\n",
    "print(cat)\n",
    "domestic_cat()\n",
    "print('First cat is still a ' + cat + ' :(')"
   ]
  },
  {
   "cell_type": "code",
   "execution_count": 137,
   "metadata": {},
   "outputs": [
    {
     "name": "stdout",
     "output_type": "stream",
     "text": [
      "stray cat\n",
      "First cat is now a happy cat :)\n"
     ]
    }
   ],
   "source": [
    "# Global scope\n",
    "\n",
    "# Create a string\n",
    "cat = \"stray cat\"\n",
    "\n",
    "# Define find_parents()\n",
    "def find_parents():\n",
    "    \"\"\"Change the value of the global variable cat\"\"\"\n",
    "\n",
    "    # Use cat in global scope and change its value\n",
    "    global cat\n",
    "    cat = \"happy cat\"\n",
    "\n",
    "# How function find_parents() works\n",
    "print(cat)\n",
    "find_parents()\n",
    "print('First cat is now a ' + cat + ' :)')"
   ]
  },
  {
   "cell_type": "code",
   "execution_count": 138,
   "metadata": {},
   "outputs": [
    {
     "name": "stdout",
     "output_type": "stream",
     "text": [
      "MEOW MEOW MEOW !\n",
      "purr purr \n"
     ]
    }
   ],
   "source": [
    "# Nonlocal scope\n",
    "\n",
    "def early_morning(cat_says):\n",
    "    \"\"\"Change the value of nonlocal variable\"\"\"\n",
    "    \n",
    "    hungry_kitty = 3 * cat_says.upper() + '!'\n",
    "    print(hungry_kitty)\n",
    "    \n",
    "    def after_eating():\n",
    "        \"\"\"Alter a variable in the enclosing scope\"\"\" \n",
    "    \n",
    "        nonlocal hungry_kitty\n",
    "        hungry_kitty = 2 * 'purr '\n",
    "        \n",
    "    # Call inner function inside early_morning()\n",
    "    after_eating()\n",
    "\n",
    "    print(hungry_kitty)\n",
    "    \n",
    "early_morning('meow ')"
   ]
  },
  {
   "cell_type": "markdown",
   "metadata": {},
   "source": [
    "### Default and flexible arguments"
   ]
  },
  {
   "cell_type": "code",
   "execution_count": 139,
   "metadata": {},
   "outputs": [
    {
     "name": "stdout",
     "output_type": "stream",
     "text": [
      "Cat caught 1 toy\n",
      "Cat caught 4 butterflies\n",
      "Cat caught 0 dogs\n"
     ]
    }
   ],
   "source": [
    "# Function with one default argument\n",
    "\n",
    "def cats_score(prey, success=1):\n",
    "    \"\"\"Show cat's score\"\"\"\n",
    "    \n",
    "    count_preys = str(success) + ' ' + prey\n",
    "    score = 'Cat caught ' + count_preys\n",
    "    \n",
    "    return score\n",
    "\n",
    "# Define only prey\n",
    "toy = cats_score('toy')\n",
    "print(toy)\n",
    "\n",
    "# Define prey and success\n",
    "butterflies = cats_score('butterflies', success=4)\n",
    "dogs = cats_score('dogs', success=0)\n",
    "\n",
    "print(butterflies)\n",
    "print(dogs)"
   ]
  },
  {
   "cell_type": "code",
   "execution_count": 140,
   "metadata": {},
   "outputs": [
    {
     "name": "stdout",
     "output_type": "stream",
     "text": [
      "Good  cat caught 1 toy\n",
      "Good  cat caught 4 butterflies\n",
      "Bad  cat caught 2 human legs\n"
     ]
    }
   ],
   "source": [
    "# Function with multiple default argument\n",
    "\n",
    "def cats_score(prey, success=1, good_kitty=True):\n",
    "    \"\"\"Show cat's score\"\"\"\n",
    "    \n",
    "    count_preys = str(success) + ' ' + prey\n",
    "    score = ' cat caught ' + count_preys\n",
    "    \n",
    "    if good_kitty:\n",
    "        score = 'Good ' + score\n",
    "    else:\n",
    "        score = 'Bad ' + score\n",
    "    return score\n",
    "\n",
    "toy = cats_score('toy')\n",
    "print(toy)\n",
    "\n",
    "butterflies = cats_score('butterflies', success=4)\n",
    "print(butterflies)\n",
    "\n",
    "human_legs = cats_score('human legs', success=2, good_kitty=False)\n",
    "print(human_legs)"
   ]
  },
  {
   "cell_type": "markdown",
   "metadata": {},
   "source": [
    "### Variable-legnth arguments"
   ]
  },
  {
   "cell_type": "code",
   "execution_count": 142,
   "metadata": {},
   "outputs": [
    {
     "name": "stdout",
     "output_type": "stream",
     "text": [
      "Short news: meow\n",
      "Long news: meowPrrrMEOWfff\n"
     ]
    }
   ],
   "source": [
    "# Function with variable-length arguments (*args)\n",
    "\n",
    "def cat_says(*args):\n",
    "    \"\"\"Concatenate strings in args together\"\"\"\n",
    "    \n",
    "    # Initialize empty string\n",
    "    cats_news = ''\n",
    "    \n",
    "    # Concatenate strings in args:\n",
    "    for string in args:\n",
    "        cats_news += string\n",
    "        \n",
    "    return cats_news\n",
    "\n",
    "short_news = cat_says('meow')\n",
    "long_news = cat_says('meow', 'Prrr', 'MEOW', 'fff')\n",
    "\n",
    "print('Short news: ' + short_news)\n",
    "print('Long news: ' + long_news)"
   ]
  },
  {
   "cell_type": "code",
   "execution_count": 143,
   "metadata": {},
   "outputs": [
    {
     "name": "stdout",
     "output_type": "stream",
     "text": [
      "Our pet #1\n",
      "species: cat\n",
      "color: ginger\n",
      "age: 9 yo\n",
      "character: lazy\n",
      "\n",
      "Our pet #2\n",
      "species: cat\n",
      "color: black and white\n",
      "age: 4 yo\n",
      "character: playful\n",
      "\n",
      "Our pet #3\n",
      "species: dog\n",
      "color: red\n",
      "age: 1 yo\n",
      "character: proud\n",
      "\n"
     ]
    }
   ],
   "source": [
    "# Function with variable-length keyword arguments (**kwargs)\n",
    "\n",
    "def our_pets(number, **kwargs):\n",
    "    \"\"\"Print out info about our pets\"\"\"\n",
    "    \n",
    "    print('Our pet #' + str(number))\n",
    "    \n",
    "    # Iterate over key-value pairs in kwags\n",
    "    for key, value in kwargs.items():\n",
    "        print(key + ': ' + value)\n",
    "    \n",
    "    print()\n",
    "        \n",
    "our_pets(1, species='cat', color='ginger', age='9 yo', character='lazy')\n",
    "our_pets(2, species='cat', color='black and white', age='4 yo', character='playful')\n",
    "our_pets(3, species='dog', color='red', age='1 yo', character='proud')"
   ]
  },
  {
   "cell_type": "markdown",
   "metadata": {},
   "source": [
    "## Lambda functions and error-handling"
   ]
  },
  {
   "cell_type": "markdown",
   "metadata": {},
   "source": [
    "### Lambda functions"
   ]
  },
  {
   "cell_type": "code",
   "execution_count": 144,
   "metadata": {},
   "outputs": [
    {
     "name": "stdout",
     "output_type": "stream",
     "text": [
      "MeowMeowMeowMeow!\n",
      "Woof!\n"
     ]
    }
   ],
   "source": [
    "# Lambda function of ani_func\n",
    "\n",
    "# Define ani_func as lambda function\n",
    "ani_func = (lambda ani_word, insistence: insistence * ani_word + '!')\n",
    "\n",
    "# Call ani_func for loquacious cat\n",
    "cat = ani_func('Meow', 4)\n",
    "print(cat)\n",
    "\n",
    "# Call ani_func for locanic dog\n",
    "dog = ani_func('Woof', 1)\n",
    "print(dog)"
   ]
  },
  {
   "cell_type": "code",
   "execution_count": 88,
   "metadata": {},
   "outputs": [
    {
     "name": "stdout",
     "output_type": "stream",
     "text": [
      "['We love our cat', 'We love our dog', 'We love our duck', 'We love our spider']\n"
     ]
    }
   ],
   "source": [
    "# Map() and lambda functions\n",
    "\n",
    "pets = ['cat', 'dog', 'duck', 'spider']\n",
    "\n",
    "# Apply lambda with map() to concatenate strings\n",
    "we_love = map(lambda string: 'We love our ' + string, pets)\n",
    "print(list(we_love))"
   ]
  },
  {
   "cell_type": "code",
   "execution_count": 145,
   "metadata": {},
   "outputs": [
    {
     "name": "stdout",
     "output_type": "stream",
     "text": [
      "['little dog', 'little duck']\n"
     ]
    }
   ],
   "source": [
    "# Filter() and lambda functions\n",
    "\n",
    "pets = ['cat', 'little dog', 'big dog', 'little duck', 'spider']\n",
    "\n",
    "# Apply lambda using filter() to choose little pets\n",
    "little_pets = filter(lambda string: 'little' in string, pets)\n",
    "print((list(little_pets)))"
   ]
  },
  {
   "cell_type": "code",
   "execution_count": 146,
   "metadata": {},
   "outputs": [
    {
     "name": "stdout",
     "output_type": "stream",
     "text": [
      "MeowMeowWoofMeowMeowWoofQuacksMeowMeowWoofMeowMeowWoofQuacksSsshh\n"
     ]
    }
   ],
   "source": [
    "# Reduce() and lambda functions\n",
    "\n",
    "from functools import reduce\n",
    "\n",
    "ani_words = ['Meow', 'Woof', 'Quacks', 'Ssshh']\n",
    "\n",
    "# Apply lambda with reduce to \n",
    "chorus = reduce(lambda item1, item2: 2 * item1 + item2, ani_words)\n",
    "print(chorus)"
   ]
  },
  {
   "cell_type": "markdown",
   "metadata": {},
   "source": [
    "### Error-handling"
   ]
  },
  {
   "cell_type": "code",
   "execution_count": 147,
   "metadata": {},
   "outputs": [
    {
     "ename": "TypeError",
     "evalue": "object of type 'float' has no len()",
     "output_type": "error",
     "traceback": [
      "\u001b[0;31m---------------------------------------------------------------------------\u001b[0m",
      "\u001b[0;31mTypeError\u001b[0m                                 Traceback (most recent call last)",
      "\u001b[0;32m<ipython-input-147-1133e7be7d7d>\u001b[0m in \u001b[0;36m<module>\u001b[0;34m()\u001b[0m\n\u001b[1;32m      1\u001b[0m \u001b[0;31m# Example of an TypeError\u001b[0m\u001b[0;34m\u001b[0m\u001b[0;34m\u001b[0m\u001b[0m\n\u001b[1;32m      2\u001b[0m \u001b[0;34m\u001b[0m\u001b[0m\n\u001b[0;32m----> 3\u001b[0;31m \u001b[0mlen\u001b[0m\u001b[0;34m(\u001b[0m\u001b[0;36m2.6\u001b[0m\u001b[0;34m)\u001b[0m\u001b[0;34m\u001b[0m\u001b[0m\n\u001b[0m",
      "\u001b[0;31mTypeError\u001b[0m: object of type 'float' has no len()"
     ]
    }
   ],
   "source": [
    "# Example of an TypeError\n",
    "\n",
    "len(2.6)"
   ]
  },
  {
   "cell_type": "code",
   "execution_count": 148,
   "metadata": {},
   "outputs": [
    {
     "ename": "TypeError",
     "evalue": "unsupported operand type(s) for +: 'int' and 'str'",
     "output_type": "error",
     "traceback": [
      "\u001b[0;31m---------------------------------------------------------------------------\u001b[0m",
      "\u001b[0;31mTypeError\u001b[0m                                 Traceback (most recent call last)",
      "\u001b[0;32m<ipython-input-148-c04f3d231fcb>\u001b[0m in \u001b[0;36m<module>\u001b[0;34m()\u001b[0m\n\u001b[1;32m      1\u001b[0m \u001b[0;31m# Example of an TypeError\u001b[0m\u001b[0;34m\u001b[0m\u001b[0;34m\u001b[0m\u001b[0m\n\u001b[1;32m      2\u001b[0m \u001b[0;34m\u001b[0m\u001b[0m\n\u001b[0;32m----> 3\u001b[0;31m \u001b[0;36m5\u001b[0m \u001b[0;34m+\u001b[0m \u001b[0;34m'string'\u001b[0m\u001b[0;34m\u001b[0m\u001b[0m\n\u001b[0m",
      "\u001b[0;31mTypeError\u001b[0m: unsupported operand type(s) for +: 'int' and 'str'"
     ]
    }
   ],
   "source": [
    "# Example of an TypeError\n",
    "\n",
    "5 + 'string'"
   ]
  },
  {
   "cell_type": "code",
   "execution_count": 153,
   "metadata": {},
   "outputs": [
    {
     "name": "stdout",
     "output_type": "stream",
     "text": [
      "There's something unexpected: cat_word must be a string and insistence must be an integer.\n",
      "\n"
     ]
    }
   ],
   "source": [
    "# Error handling with try-except\n",
    "\n",
    "def cat_news(cat_word, insistence=1):\n",
    "    \"\"\"Report cat's news\"\"\"\n",
    "    \n",
    "    # Initialize empty string\n",
    "    news = ''\n",
    "    \n",
    "    # Add exception handling with try-except\n",
    "    try:\n",
    "        news = cat_word * insistence\n",
    "    except:\n",
    "        print(\"There's something unexpected: cat_word must be a string and insistence must be an integer.\")\n",
    "    \n",
    "    return news\n",
    "\n",
    "print(cat_news('meow', insistence='three'))"
   ]
  },
  {
   "cell_type": "code",
   "execution_count": 154,
   "metadata": {},
   "outputs": [
    {
     "ename": "ValueError",
     "evalue": "There's something unexpected: insistence must be greater than 0",
     "output_type": "error",
     "traceback": [
      "\u001b[0;31m---------------------------------------------------------------------------\u001b[0m",
      "\u001b[0;31mValueError\u001b[0m                                Traceback (most recent call last)",
      "\u001b[0;32m<ipython-input-154-80739893a72c>\u001b[0m in \u001b[0;36m<module>\u001b[0;34m()\u001b[0m\n\u001b[1;32m     11\u001b[0m     \u001b[0;32mreturn\u001b[0m \u001b[0mnews\u001b[0m\u001b[0;34m\u001b[0m\u001b[0m\n\u001b[1;32m     12\u001b[0m \u001b[0;34m\u001b[0m\u001b[0m\n\u001b[0;32m---> 13\u001b[0;31m \u001b[0mprint\u001b[0m\u001b[0;34m(\u001b[0m\u001b[0mcat_news\u001b[0m\u001b[0;34m(\u001b[0m\u001b[0;34m'meow'\u001b[0m\u001b[0;34m,\u001b[0m \u001b[0minsistence\u001b[0m\u001b[0;34m=\u001b[0m\u001b[0;34m-\u001b[0m\u001b[0;36m5\u001b[0m\u001b[0;34m)\u001b[0m\u001b[0;34m)\u001b[0m\u001b[0;34m\u001b[0m\u001b[0m\n\u001b[0m",
      "\u001b[0;32m<ipython-input-154-80739893a72c>\u001b[0m in \u001b[0;36mcat_news\u001b[0;34m(cat_word, insistence)\u001b[0m\n\u001b[1;32m      6\u001b[0m     \u001b[0;31m# Raise an error with raise\u001b[0m\u001b[0;34m\u001b[0m\u001b[0;34m\u001b[0m\u001b[0m\n\u001b[1;32m      7\u001b[0m     \u001b[0;32mif\u001b[0m \u001b[0minsistence\u001b[0m \u001b[0;34m<\u001b[0m \u001b[0;36m0\u001b[0m\u001b[0;34m:\u001b[0m\u001b[0;34m\u001b[0m\u001b[0m\n\u001b[0;32m----> 8\u001b[0;31m         \u001b[0;32mraise\u001b[0m \u001b[0mValueError\u001b[0m\u001b[0;34m(\u001b[0m\u001b[0;34m\"There's something unexpected: insistence must be greater than 0\"\u001b[0m\u001b[0;34m)\u001b[0m\u001b[0;34m\u001b[0m\u001b[0m\n\u001b[0m\u001b[1;32m      9\u001b[0m \u001b[0;34m\u001b[0m\u001b[0m\n\u001b[1;32m     10\u001b[0m     \u001b[0mnews\u001b[0m \u001b[0;34m=\u001b[0m \u001b[0mcat_word\u001b[0m \u001b[0;34m*\u001b[0m \u001b[0minsistence\u001b[0m\u001b[0;34m\u001b[0m\u001b[0m\n",
      "\u001b[0;31mValueError\u001b[0m: There's something unexpected: insistence must be greater than 0"
     ]
    }
   ],
   "source": [
    "# Error handling by raising an error\n",
    "\n",
    "def cat_news(cat_word, insistence=1):\n",
    "    \"\"\"Report cat's news\"\"\"\n",
    "    \n",
    "    # Raise an error with raise\n",
    "    if insistence < 0:\n",
    "        raise ValueError(\"There's something unexpected: insistence must be greater than 0\")\n",
    "        \n",
    "    news = cat_word * insistence\n",
    "    return news\n",
    "\n",
    "print(cat_news('meow', insistence=-5))"
   ]
  }
 ],
 "metadata": {
  "kernelspec": {
   "display_name": "Python 3",
   "language": "python",
   "name": "python3"
  },
  "language_info": {
   "codemirror_mode": {
    "name": "ipython",
    "version": 3
   },
   "file_extension": ".py",
   "mimetype": "text/x-python",
   "name": "python",
   "nbconvert_exporter": "python",
   "pygments_lexer": "ipython3",
   "version": "3.6.4"
  }
 },
 "nbformat": 4,
 "nbformat_minor": 2
}
