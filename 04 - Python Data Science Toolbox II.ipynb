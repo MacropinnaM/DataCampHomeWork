{
 "cells": [
  {
   "cell_type": "markdown",
   "metadata": {},
   "source": [
    "### 04 - Python Data Science Toolbox II\n",
    "* **Iterators**\n",
    "    * Intro to iterators *(iter(), next())*\n",
    "    * Playing with iterators *(enumerate(), zip())*\n",
    "    * Using iterators to load large files into memory *(for chunk in pd.read_csv(), count_entries())*\n",
    "* **List comprehensions & generators**\n",
    "    * List comprehensions *(creating codes, cubes, matrix)*\n",
    "    * List comprehensions with conditions\n",
    "    * Dictionary comprehensions\n",
    "    * Intro to generator expressions\n",
    "    * List comprehesions for time-stamped data"
   ]
  },
  {
   "cell_type": "markdown",
   "metadata": {},
   "source": [
    "## Iterators"
   ]
  },
  {
   "cell_type": "markdown",
   "metadata": {},
   "source": [
    "### Intro to iterators"
   ]
  },
  {
   "cell_type": "code",
   "execution_count": 1,
   "metadata": {},
   "outputs": [
    {
     "name": "stdout",
     "output_type": "stream",
     "text": [
      "beagle\n",
      "fox terrier\n",
      "pug\n",
      "basenji\n",
      "whippet\n",
      "\n",
      "beagle\n",
      "fox terrier\n",
      "pug\n",
      "basenji\n"
     ]
    }
   ],
   "source": [
    "# Iterating over dog_breeds\n",
    "\n",
    "dog_breeds = ['beagle', 'fox terrier', 'pug', 'basenji', 'whippet']\n",
    "\n",
    "for item in dog_breeds:\n",
    "    print(item)  \n",
    "print()\n",
    "\n",
    "dogs = iter(dog_breeds)\n",
    "print(next(dogs))\n",
    "print(next(dogs))\n",
    "print(next(dogs))\n",
    "print(next(dogs))"
   ]
  },
  {
   "cell_type": "code",
   "execution_count": 2,
   "metadata": {},
   "outputs": [
    {
     "name": "stdout",
     "output_type": "stream",
     "text": [
      "2010\n",
      "2012\n",
      "2014\n",
      "\n",
      "2010\n",
      "2012\n",
      "2014\n",
      "2016\n",
      "2018\n",
      "\n",
      "2\n",
      "4\n",
      "6\n",
      "8\n"
     ]
    }
   ],
   "source": [
    "# Iterating over numbers\n",
    "\n",
    "years = iter(range(2010, 2018, 2))\n",
    "print(next(years))\n",
    "print(next(years))\n",
    "print(next(years))\n",
    "print()\n",
    "\n",
    "for num in range(2010, 2019, 2):\n",
    "    print(num)\n",
    "print()\n",
    "\n",
    "even = iter(range(2, 2 ** 100, 2))\n",
    "print(next(even))\n",
    "print(next(even))\n",
    "print(next(even))\n",
    "print(next(even))"
   ]
  },
  {
   "cell_type": "code",
   "execution_count": 3,
   "metadata": {},
   "outputs": [
    {
     "name": "stdout",
     "output_type": "stream",
     "text": [
      "range(2010, 2018)\n",
      "[2010, 2011, 2012, 2013, 2014, 2015, 2016, 2017]\n",
      "16108\n"
     ]
    }
   ],
   "source": [
    "# Iterators as function arguments\n",
    "\n",
    "range_of_years = range(2010, 2018)\n",
    "print(range_of_years)\n",
    "\n",
    "list_of_years = list(range_of_years)\n",
    "print(list_of_years)\n",
    "\n",
    "sum_of_years = sum(range_of_years)\n",
    "print(sum_of_years)"
   ]
  },
  {
   "cell_type": "markdown",
   "metadata": {},
   "source": [
    "### Playing with iterators"
   ]
  },
  {
   "cell_type": "code",
   "execution_count": 4,
   "metadata": {},
   "outputs": [
    {
     "name": "stdout",
     "output_type": "stream",
     "text": [
      "[(0, 'beagle'), (1, 'fox terrier'), (2, 'pug'), (3, 'basenji'), (4, 'whippet')]\n",
      "\n",
      "0 beagle\n",
      "1 fox terrier\n",
      "2 pug\n",
      "3 basenji\n",
      "4 whippet\n",
      "\n",
      "1 beagle\n",
      "2 fox terrier\n",
      "3 pug\n",
      "4 basenji\n",
      "5 whippet\n"
     ]
    }
   ],
   "source": [
    "# Using enumerate\n",
    "\n",
    "dog_breeds = ['beagle', 'fox terrier', 'pug', 'basenji', 'whippet']\n",
    "\n",
    "breed_list = list(enumerate(dog_breeds)) # List of tuples\n",
    "print(breed_list)\n",
    "print()\n",
    "\n",
    "for ind, val in enumerate(dog_breeds):\n",
    "    print(ind, val)\n",
    "print()\n",
    "\n",
    "for ind, val in enumerate(dog_breeds, start = 1) :\n",
    "    print(ind, val)"
   ]
  },
  {
   "cell_type": "code",
   "execution_count": 5,
   "metadata": {},
   "outputs": [
    {
     "name": "stdout",
     "output_type": "stream",
     "text": [
      "<zip object at 0x10ef85ec8>\n",
      "\n",
      "beagle: Bella, 4yo\n",
      "fox terrier: Max, 8yo\n",
      "pug: Rocky, 1yo\n",
      "basenji: Daisy, 2yo\n",
      "whippet: Maggie, 5yo\n",
      "\n",
      "[('beagle', 'Bella', 4), ('fox terrier', 'Max', 8), ('pug', 'Rocky', 1), ('basenji', 'Daisy', 2), ('whippet', 'Maggie', 5)]\n"
     ]
    }
   ],
   "source": [
    "# Using zip\n",
    "\n",
    "dog_breeds = ['beagle', 'fox terrier', 'pug', 'basenji', 'whippet']\n",
    "dog_names = ['Bella', 'Max', 'Rocky', 'Daisy', 'Maggie']\n",
    "dog_ages = [4, 8, 1, 2, 5]\n",
    "\n",
    "dog_zip = zip(dog_breeds, dog_names, dog_ages)\n",
    "print(dog_zip)\n",
    "print()\n",
    "\n",
    "for val1, val2, val3 in dog_zip:\n",
    "    print(val1 + ': '+  val2 + ', ' + str(val3) + 'yo')\n",
    "print()\n",
    "\n",
    "dog_data = list(zip(dog_breeds, dog_names, dog_ages))\n",
    "print(dog_data)"
   ]
  },
  {
   "cell_type": "code",
   "execution_count": 6,
   "metadata": {},
   "outputs": [
    {
     "name": "stdout",
     "output_type": "stream",
     "text": [
      "('beagle', 'Bella') ('fox terrier', 'Max') ('pug', 'Rocky') ('basenji', 'Daisy') ('whippet', 'Maggie')\n",
      "\n",
      "('beagle', 'fox terrier', 'pug', 'basenji', 'whippet')\n",
      "('Bella', 'Max', 'Rocky', 'Daisy', 'Maggie')\n"
     ]
    }
   ],
   "source": [
    "# Using * and zip to 'unzip'\n",
    "\n",
    "z1 = zip(dog_breeds, dog_names)\n",
    "print(*z1)\n",
    "print()\n",
    "\n",
    "z1 = zip(dog_breeds, dog_names)\n",
    "breeds, names = zip(*z1)\n",
    "print(breeds)\n",
    "print(names)"
   ]
  },
  {
   "cell_type": "markdown",
   "metadata": {},
   "source": [
    "### Using iterators to load large files into memory"
   ]
  },
  {
   "cell_type": "code",
   "execution_count": 10,
   "metadata": {},
   "outputs": [
    {
     "name": "stdout",
     "output_type": "stream",
     "text": [
      "{'Germany': 38, 'Afghanistan': 2, 'Morocco': 2, 'United Kingdom': 79, 'Turkey': 3, 'Japan': 12, 'Spain': 29, 'United States': 45, 'Albania': 1, 'Greece': 6, 'Austria': 5, 'Switzerland': 10, 'France': 49, 'Egypt': 1, 'Armenia': 1, 'Australia': 9, 'Mali': 1, 'India': 15, 'Democratic Republic of the Congo': 1, 'Belgium': 9, 'Italy': 14, 'Norway': 6, 'Russia': 15, 'South Africa': 1, 'Czech Republic': 4, 'Bosnia and Herzegovina': 2, 'Brazil': 4, 'Denmark': 3, 'Romania': 3, 'Pakistan': 1, 'Lebanon': 1, 'Canada': 11, 'Portugal': 10, 'Georgia': 2, 'Mexico': 2, 'Chile': 1, 'China': 11, 'Slovakia': 4, 'Argentina': 2, 'Madagascar': 1, 'Croatia': 6, 'Czechoslovakia': 1, 'Cuba': 2, 'Netherlands': 10, 'Sweden': 8, 'Estonia': 1, 'Scandinavia': 1, 'Finland': 7, 'Ireland': 9, 'Puerto Rico': 1, 'Greenland': 1, 'Guatemala': 1, 'Nepal': 1, 'Ukraine': 1, 'New Zealand': 3, 'Iceland': 1, 'Bulgaria': 1, 'Slovenia': 1, 'Indonesia': 1, 'Hungary': 9, 'Korea': 3, 'Tibet': 4, 'Lithuania': 1, 'Montenegro': 1, 'Venezuela': 1, 'Peru': 1, 'Malta': 1, 'Vietnam': 1, 'Poland': 5, 'Zimbabwe': 1, 'Colombia': 1, 'Fertile Crescent': 1, 'Serbia': 3, 'Sri Lanka': 1, 'Kyrgyzstan': 1, 'Taiwan': 1, 'Malaysia': 1, 'Thailand': 2, 'Uruguay': 1, 'England': 1}\n"
     ]
    }
   ],
   "source": [
    "# Processing large amounts of Dogs data\n",
    "\n",
    "import pandas as pd\n",
    "dog_dict = {}\n",
    "for chunk in pd.read_csv('Dogs.csv', delimiter=';', chunksize=10):\n",
    "    for entry in chunk['Origin']:\n",
    "        if entry in dog_dict.keys():\n",
    "            dog_dict[entry] += 1\n",
    "        else:\n",
    "            dog_dict[entry] = 1\n",
    "\n",
    "print(dog_dict)"
   ]
  },
  {
   "cell_type": "code",
   "execution_count": 11,
   "metadata": {},
   "outputs": [
    {
     "name": "stdout",
     "output_type": "stream",
     "text": [
      "{'Toy': 20, 'Hound': 26, nan: 297, 'Terrier': 25, 'Utility': 23, 'Working': 25, 'Extinct': 30, 'Gundog': 29, 'Pastoral': 32, 'Terriers': 1, 'Sporting Dog': 1, 'Gun dog': 2, 'Toys': 1, 'Not recognised': 1, 'Toy Group': 1}\n"
     ]
    }
   ],
   "source": [
    "# Extracting information using function:\n",
    "\n",
    "def count_entries(csv_file, delimiter, c_size, colname):\n",
    "    \"\"\"Return a dictionary with counts of\n",
    "    occurrences as value for each key.\"\"\"\n",
    "    \n",
    "    counts_dict = {}\n",
    "    for chunk in pd.read_csv(csv_file, delimiter, chunksize= c_size):\n",
    "        for entry in chunk[colname]:\n",
    "            if entry in counts_dict.keys():\n",
    "                counts_dict[entry] += 1\n",
    "            else:\n",
    "                counts_dict[entry] = 1\n",
    "    return counts_dict\n",
    "\n",
    "result_counts = count_entries('Dogs.csv', ';', 10, 'The Kennel Club')\n",
    "print(result_counts)"
   ]
  },
  {
   "cell_type": "markdown",
   "metadata": {},
   "source": [
    "## List comprehensions and generators"
   ]
  },
  {
   "cell_type": "markdown",
   "metadata": {},
   "source": [
    "### List comprehensions"
   ]
  },
  {
   "cell_type": "code",
   "execution_count": 13,
   "metadata": {},
   "outputs": [
    {
     "data": {
      "text/plain": [
       "['BE', 'FO', 'PU', 'BA', 'WH']"
      ]
     },
     "execution_count": 13,
     "metadata": {},
     "output_type": "execute_result"
    }
   ],
   "source": [
    "# Basic list comprehension\n",
    "\n",
    "dog_breeds = ['beagle', 'fox terrier', 'pug', 'basenji', 'whippet']\n",
    "[breed[:2].upper() for breed in dog_breeds]"
   ]
  },
  {
   "cell_type": "code",
   "execution_count": 14,
   "metadata": {},
   "outputs": [
    {
     "name": "stdout",
     "output_type": "stream",
     "text": [
      "[0, 1, 8, 27, 64, 125, 216, 343]\n"
     ]
    }
   ],
   "source": [
    "# Writing list comprehension\n",
    "\n",
    "cubes = [i**3 for i in range(8)]\n",
    "print(cubes)"
   ]
  },
  {
   "cell_type": "code",
   "execution_count": 15,
   "metadata": {},
   "outputs": [
    {
     "name": "stdout",
     "output_type": "stream",
     "text": [
      "[1, 1, 2, 1, 1]\n",
      "[5, 5, 3, 2, 2]\n",
      "[3, 2, 5, 1, 3]\n",
      "[1, 5, 1, 1, 3]\n",
      "[5, 3, 2, 3, 4]\n"
     ]
    }
   ],
   "source": [
    "# Nested list comprehension\n",
    "\n",
    "from numpy import random\n",
    "\n",
    "matrix = [[col for col in random.randint(1, 6, 5)] for col in range(5)]\n",
    "for row in matrix:\n",
    "    print(row)"
   ]
  },
  {
   "cell_type": "markdown",
   "metadata": {},
   "source": [
    "### List comprehensions with conditions"
   ]
  },
  {
   "cell_type": "code",
   "execution_count": 16,
   "metadata": {},
   "outputs": [
    {
     "name": "stdout",
     "output_type": "stream",
     "text": [
      "['welsh sheepdog', 'chinese imperial dog', 'german spitz']\n"
     ]
    }
   ],
   "source": [
    "# if-conditionals in comprehensions\n",
    "\n",
    "dog_breeds = ['welsh sheepdog', 'chinese imperial dog', 'pug', 'basenji', 'german spitz']\n",
    "national_breeds = [breed for breed in dog_breeds if ' ' in breed]\n",
    "print(national_breeds)"
   ]
  },
  {
   "cell_type": "code",
   "execution_count": 17,
   "metadata": {},
   "outputs": [
    {
     "name": "stdout",
     "output_type": "stream",
     "text": [
      "['welsh sheepdog', 'chinese imperial dog', 'not national', 'not national', 'german spitz']\n"
     ]
    }
   ],
   "source": [
    "# if-else-conditionals in comprehensions\n",
    "\n",
    "dog_breeds = ['welsh sheepdog', 'chinese imperial dog', 'pug', 'basenji', 'german spitz']\n",
    "national_breeds = [breed if ' ' in breed else 'not national' for breed in dog_breeds]\n",
    "print(national_breeds)"
   ]
  },
  {
   "cell_type": "markdown",
   "metadata": {},
   "source": [
    "### Dictionary comprehensions"
   ]
  },
  {
   "cell_type": "code",
   "execution_count": 18,
   "metadata": {},
   "outputs": [
    {
     "name": "stdout",
     "output_type": "stream",
     "text": [
      "{'Bella': 5, 'Max': 3, 'Annabelle': 9, 'Daisy': 5, 'Maggie': 6}\n"
     ]
    }
   ],
   "source": [
    "# Dict comprehension\n",
    "\n",
    "dog_names = ['Bella', 'Max', 'Annabelle', 'Daisy', 'Maggie']\n",
    "names_dict = {name : len(name) for name in dog_names}\n",
    "print(names_dict)"
   ]
  },
  {
   "cell_type": "markdown",
   "metadata": {},
   "source": [
    "### Intro to generator expressions"
   ]
  },
  {
   "cell_type": "code",
   "execution_count": 19,
   "metadata": {},
   "outputs": [
    {
     "name": "stdout",
     "output_type": "stream",
     "text": [
      "Bella\n",
      "Max\n",
      "Annabelle\n",
      "\n",
      "Daisy\n",
      "Maggie\n"
     ]
    }
   ],
   "source": [
    "# Write your own generator expressions\n",
    "\n",
    "dog_names = ['Bella', 'Max', 'Annabelle', 'Daisy', 'Maggie']\n",
    "\n",
    "names = (name for name in dog_names)\n",
    "print(next(names))\n",
    "print(next(names))\n",
    "print(next(names))\n",
    "print('')\n",
    "\n",
    "for name in names:\n",
    "    print(name)"
   ]
  },
  {
   "cell_type": "code",
   "execution_count": 20,
   "metadata": {},
   "outputs": [
    {
     "name": "stdout",
     "output_type": "stream",
     "text": [
      "Bel for Bella\n",
      "Max for Max\n",
      "Ann for Annabelle\n",
      "Dai for Daisy\n",
      "Mag for Maggie\n"
     ]
    }
   ],
   "source": [
    "# Changing the output in generator expressions\n",
    "\n",
    "dog_names = ['Bella', 'Max', 'Annabelle', 'Daisy', 'Maggie']\n",
    "short_name = (name[:3] + ' for ' + name for name in dog_names)\n",
    "\n",
    "for value in short_name:\n",
    "    print(value)"
   ]
  },
  {
   "cell_type": "code",
   "execution_count": 21,
   "metadata": {},
   "outputs": [
    {
     "name": "stdout",
     "output_type": "stream",
     "text": [
      "Bel\n",
      "Max\n",
      "Ann\n",
      "Dai\n",
      "Mag\n"
     ]
    }
   ],
   "source": [
    "# Build a generator\n",
    "\n",
    "dog_names = ['Bella', 'Max', 'Annabelle', 'Daisy', 'Maggie']\n",
    "\n",
    "def get_short_names(input_list):\n",
    "    \"\"\"Generator function that yields short string for strings in input_list.\"\"\"\n",
    "    for name in input_list:\n",
    "        yield name[:3]\n",
    "\n",
    "for short_name in get_short_names(dog_names):\n",
    "    print(short_name)"
   ]
  },
  {
   "cell_type": "markdown",
   "metadata": {},
   "source": [
    "### List comprehesions for time-stamped data"
   ]
  },
  {
   "cell_type": "code",
   "execution_count": 23,
   "metadata": {},
   "outputs": [
    {
     "name": "stdout",
     "output_type": "stream",
     "text": [
      "['2014', '2010', '2017', '2016', '2013']\n",
      "[4, 8, 1, 2, 5]\n"
     ]
    }
   ],
   "source": [
    "# List comprehensions for time-stamped data\n",
    "\n",
    "df = pd.read_csv('my_dogs.csv', index_col='Name')\n",
    "dog_birthdays = df['Birthday']\n",
    "\n",
    "years = [birthday[-4:] for birthday in dog_birthdays]\n",
    "print(years)\n",
    "\n",
    "ages = [2018 - int(birthday[-4:]) for birthday in dog_birthdays]\n",
    "print(ages)"
   ]
  },
  {
   "cell_type": "code",
   "execution_count": 24,
   "metadata": {},
   "outputs": [
    {
     "name": "stdout",
     "output_type": "stream",
     "text": [
      "Name\n",
      "Bella        22-03-2014\n",
      "Max          14-01-2010\n",
      "Annabelle    06-11-2017\n",
      "Daisy        05-05-2016\n",
      "Maggie       17-08-2013\n",
      "Name: Birthday, dtype: object\n",
      "\n",
      "['17-08-2013']\n"
     ]
    }
   ],
   "source": [
    "# Conditional list comprehesions for time-stamped data\n",
    "\n",
    "# Extract the Birthday column from df\n",
    "df = pd.read_csv('my_dogs.csv', index_col='Name')\n",
    "dog_birthdays = df['Birthday']\n",
    "print(dog_birthdays)\n",
    "print()\n",
    "\n",
    "# Extract years from birthdays and choose young dogs\n",
    "summer_birthdays = [birthday for birthday in dog_birthdays if 6 <= int(birthday[3:5]) <=8 ]\n",
    "print(summer_birthdays)"
   ]
  }
 ],
 "metadata": {
  "kernelspec": {
   "display_name": "Python 3",
   "language": "python",
   "name": "python3"
  },
  "language_info": {
   "codemirror_mode": {
    "name": "ipython",
    "version": 3
   },
   "file_extension": ".py",
   "mimetype": "text/x-python",
   "name": "python",
   "nbconvert_exporter": "python",
   "pygments_lexer": "ipython3",
   "version": "3.6.4"
  }
 },
 "nbformat": 4,
 "nbformat_minor": 2
}
