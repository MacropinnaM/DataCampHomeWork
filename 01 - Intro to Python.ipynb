{
 "cells": [
  {
   "cell_type": "markdown",
   "metadata": {},
   "source": [
    "## First steps"
   ]
  },
  {
   "cell_type": "markdown",
   "metadata": {},
   "source": [
    "### First word"
   ]
  },
  {
   "cell_type": "code",
   "execution_count": 2,
   "metadata": {},
   "outputs": [
    {
     "name": "stdout",
     "output_type": "stream",
     "text": [
      "Hello\n",
      "42\n",
      "52/2 + 8\n",
      "34.0\n"
     ]
    }
   ],
   "source": [
    "# Basic tool for communication with Python - print()\n",
    "print('Hello')\n",
    "print(42)\n",
    "print('52/2 + 8')\n",
    "print(52/2 + 8)"
   ]
  },
  {
   "cell_type": "markdown",
   "metadata": {},
   "source": [
    "### Basic calculations with Python"
   ]
  },
  {
   "cell_type": "code",
   "execution_count": 5,
   "metadata": {},
   "outputs": [
    {
     "name": "stdout",
     "output_type": "stream",
     "text": [
      "11\n",
      "-4\n",
      "48\n",
      "8.0\n",
      "125\n",
      "3\n"
     ]
    }
   ],
   "source": [
    "# Addition & subtraction\n",
    "print(4 + 7)\n",
    "print(8 - 12)\n",
    "\n",
    "# Multiplication & division\n",
    "print(6 * 8)\n",
    "print(24 / 3)\n",
    "\n",
    "# Exponentiation\n",
    "print(5 ** 3)\n",
    "\n",
    "# Modulo - reminder of division\n",
    "print(17 % 7)"
   ]
  },
  {
   "cell_type": "markdown",
   "metadata": {},
   "source": [
    "## Variables & Types"
   ]
  },
  {
   "cell_type": "markdown",
   "metadata": {},
   "source": [
    "### Integer"
   ]
  },
  {
   "cell_type": "code",
   "execution_count": 6,
   "metadata": {},
   "outputs": [
    {
     "name": "stdout",
     "output_type": "stream",
     "text": [
      "26 4\n"
     ]
    }
   ],
   "source": [
    "# Integer type\n",
    "length = 26\n",
    "width = 4\n",
    "\n",
    "# Print out variables\n",
    "print(length, width)"
   ]
  },
  {
   "cell_type": "code",
   "execution_count": 8,
   "metadata": {},
   "outputs": [
    {
     "name": "stdout",
     "output_type": "stream",
     "text": [
      "104\n"
     ]
    }
   ],
   "source": [
    "# Calculation with variables\n",
    "square = length * width\n",
    "print(square)"
   ]
  },
  {
   "cell_type": "code",
   "execution_count": 9,
   "metadata": {},
   "outputs": [
    {
     "data": {
      "text/plain": [
       "int"
      ]
     },
     "execution_count": 9,
     "metadata": {},
     "output_type": "execute_result"
    }
   ],
   "source": [
    "# Type of variable\n",
    "type(square)"
   ]
  },
  {
   "cell_type": "markdown",
   "metadata": {},
   "source": [
    "### Float"
   ]
  },
  {
   "cell_type": "code",
   "execution_count": 40,
   "metadata": {},
   "outputs": [
    {
     "name": "stdout",
     "output_type": "stream",
     "text": [
      "6 <class 'int'>\n",
      "6.0 <class 'float'>\n"
     ]
    }
   ],
   "source": [
    "# Fractional part of the number\n",
    "integer = 6\n",
    "print(integer, type(integer))\n",
    "\n",
    "float_number = float(whole)\n",
    "print(float_number, type(float_number))"
   ]
  },
  {
   "cell_type": "code",
   "execution_count": 41,
   "metadata": {},
   "outputs": [
    {
     "name": "stdout",
     "output_type": "stream",
     "text": [
      "2.0\n"
     ]
    }
   ],
   "source": [
    "# Result of division is float\n",
    "two = 8 / 4\n",
    "print(two)"
   ]
  },
  {
   "cell_type": "markdown",
   "metadata": {},
   "source": [
    "### String"
   ]
  },
  {
   "cell_type": "code",
   "execution_count": 18,
   "metadata": {},
   "outputs": [
    {
     "data": {
      "text/plain": [
       "str"
      ]
     },
     "execution_count": 18,
     "metadata": {},
     "output_type": "execute_result"
    }
   ],
   "source": [
    "# String type\n",
    "greeting = 'Hello'\n",
    "type(greeting)"
   ]
  },
  {
   "cell_type": "code",
   "execution_count": 53,
   "metadata": {},
   "outputs": [
    {
     "name": "stdout",
     "output_type": "stream",
     "text": [
      "HelloHello\n",
      "HelloHelloHello\n"
     ]
    }
   ],
   "source": [
    "# Operations with strings - concatenation\n",
    "double_greeting = greeting + greeting\n",
    "print(double_greeting)\n",
    "\n",
    "triple_greeting = greeting * 3\n",
    "print(triple_greeting)"
   ]
  },
  {
   "cell_type": "markdown",
   "metadata": {},
   "source": [
    "### Boolean"
   ]
  },
  {
   "cell_type": "code",
   "execution_count": 20,
   "metadata": {},
   "outputs": [
    {
     "data": {
      "text/plain": [
       "(bool, bool)"
      ]
     },
     "execution_count": 20,
     "metadata": {},
     "output_type": "execute_result"
    }
   ],
   "source": [
    "# Boolean type\n",
    "sunny = True\n",
    "rainy = False\n",
    "\n",
    "type(sunny), type(rainy)"
   ]
  },
  {
   "cell_type": "code",
   "execution_count": 24,
   "metadata": {},
   "outputs": [
    {
     "name": "stdout",
     "output_type": "stream",
     "text": [
      "2\n",
      "1\n",
      "0\n",
      "\n",
      "1\n",
      "0\n",
      "0\n"
     ]
    }
   ],
   "source": [
    "# Operations with booleans\n",
    "print(sunny + sunny)\n",
    "print(rainy + sunny)\n",
    "print(rainy + rainy)\n",
    "print()\n",
    "print(sunny * sunny)\n",
    "print(rainy * sunny)\n",
    "print(rainy * rainy)"
   ]
  },
  {
   "cell_type": "markdown",
   "metadata": {},
   "source": [
    "### Types interactions"
   ]
  },
  {
   "cell_type": "code",
   "execution_count": 54,
   "metadata": {},
   "outputs": [
    {
     "name": "stdout",
     "output_type": "stream",
     "text": [
      "Please, buy 2 apples\n"
     ]
    }
   ],
   "source": [
    "number = 2\n",
    "items = 'apples'\n",
    "\n",
    "print('Please, buy ' + str(number) + ' ' + items)"
   ]
  },
  {
   "cell_type": "markdown",
   "metadata": {},
   "source": [
    "## Lists"
   ]
  },
  {
   "cell_type": "code",
   "execution_count": 57,
   "metadata": {},
   "outputs": [
    {
     "name": "stdout",
     "output_type": "stream",
     "text": [
      "[1.99, 2.45, 0.99, 1.89]\n"
     ]
    }
   ],
   "source": [
    "# Create a list\n",
    "oranges = 1.99\n",
    "tomatoes = 2.45\n",
    "bread = 0.99\n",
    "milk = 1.89\n",
    "\n",
    "prices = [oranges, tomatoes, bread, milk]\n",
    "print(prices)"
   ]
  },
  {
   "cell_type": "code",
   "execution_count": 59,
   "metadata": {},
   "outputs": [
    {
     "name": "stdout",
     "output_type": "stream",
     "text": [
      "['oranges', 1.99, 'tomatoes', 2.45, 'bread', 0.99, 'milk', 1.89]\n"
     ]
    }
   ],
   "source": [
    "# Adapt list\n",
    "prices = ['oranges', oranges,\n",
    "         'tomatoes', tomatoes,\n",
    "         'bread', bread,\n",
    "         'milk', milk]\n",
    "print(prices)"
   ]
  },
  {
   "cell_type": "code",
   "execution_count": 67,
   "metadata": {},
   "outputs": [
    {
     "name": "stdout",
     "output_type": "stream",
     "text": [
      "[['oranges', 1.99], ['tomatoes', 2.45], ['bread', 0.99], ['milk', 1.89]]\n"
     ]
    }
   ],
   "source": [
    "# List of lists\n",
    "prices = [['oranges', oranges],\n",
    "         ['tomatoes', tomatoes],\n",
    "         ['bread', bread],\n",
    "         ['milk', milk]]\n",
    "print(prices)"
   ]
  },
  {
   "cell_type": "code",
   "execution_count": 69,
   "metadata": {},
   "outputs": [
    {
     "name": "stdout",
     "output_type": "stream",
     "text": [
      "['tomatoes', 2.45]\n",
      "['milk', 1.89]\n",
      "2.45\n"
     ]
    }
   ],
   "source": [
    "# Subset list\n",
    "print(prices[1])\n",
    "print(prices[-1])\n",
    "print(prices[1][1])"
   ]
  },
  {
   "cell_type": "code",
   "execution_count": 72,
   "metadata": {},
   "outputs": [
    {
     "name": "stdout",
     "output_type": "stream",
     "text": [
      "4.34\n"
     ]
    }
   ],
   "source": [
    "# Calculation with list items\n",
    "oranges_and_milk = prices[1][1] + prices[3][1]\n",
    "print(oranges_and_milk)"
   ]
  },
  {
   "cell_type": "code",
   "execution_count": 89,
   "metadata": {},
   "outputs": [
    {
     "name": "stdout",
     "output_type": "stream",
     "text": [
      "['oranges', 1.99]\n",
      "['tomatoes', 2.45, 'bread', 0.99]\n",
      "['milk', 1.89]\n",
      "['bread', 0.99, 'milk', 1.89]\n"
     ]
    }
   ],
   "source": [
    "# Slice list\n",
    "prices = ['oranges', 1.99, 'tomatoes', 2.45, 'bread', 0.99, 'milk', 1.89]\n",
    "print(prices[:2])\n",
    "print(prices[2:6])\n",
    "print(prices[6:])\n",
    "print(prices[-4:])"
   ]
  },
  {
   "cell_type": "code",
   "execution_count": 90,
   "metadata": {},
   "outputs": [
    {
     "name": "stdout",
     "output_type": "stream",
     "text": [
      "['peaches', 1.99, 'tomatoes', 2.45, 'bread', 0.99, 'milk', 2.45]\n"
     ]
    }
   ],
   "source": [
    "# Change list items\n",
    "prices[0] = 'peaches'\n",
    "prices[-1] = 2.45\n",
    "print(prices)"
   ]
  },
  {
   "cell_type": "code",
   "execution_count": 91,
   "metadata": {},
   "outputs": [
    {
     "name": "stdout",
     "output_type": "stream",
     "text": [
      "['peaches', 1.99, 'tomatoes', 2.45, 'bread', 0.99, 'milk', 2.45, 'cheese', 4.55]\n"
     ]
    }
   ],
   "source": [
    "# Add list items\n",
    "prices = prices + ['cheese', 4.55]\n",
    "print(prices)"
   ]
  },
  {
   "cell_type": "code",
   "execution_count": 93,
   "metadata": {},
   "outputs": [
    {
     "name": "stdout",
     "output_type": "stream",
     "text": [
      "['peaches', 1.99, 'bread', 0.99, 'milk', 2.45, 'cheese', 4.55]\n",
      "['peaches', 1.99, 'milk', 2.45, 'cheese', 4.55]\n"
     ]
    }
   ],
   "source": [
    "# Delete list items\n",
    "prices = ['peaches', 1.99, 'tomatoes', 2.45, 'bread', 0.99, 'milk', 2.45, 'cheese', 4.55]\n",
    "\n",
    "del(prices[2:4])\n",
    "print(prices)\n",
    "\n",
    "del(prices[2:4])\n",
    "print(prices)"
   ]
  },
  {
   "cell_type": "code",
   "execution_count": 95,
   "metadata": {},
   "outputs": [
    {
     "name": "stdout",
     "output_type": "stream",
     "text": [
      "['peaches', 1.99, 'tomatoes', 2.45, 'bread', 0.99, 'milk', 2.45, 'cheese', 4.55]\n",
      "['peaches', 1.99, 'tomatoes', 2.45, 'bread', 0.99, 'milk', 2.45, 'cheese', 4.55]\n"
     ]
    }
   ],
   "source": [
    "# Copy lists\n",
    "prices = ['peaches', 1.99, 'tomatoes', 2.45, 'bread', 0.99, 'milk', 2.45, 'cheese', 4.55]\n",
    "prices_copy = prices[:]\n",
    "print(prices)\n",
    "print(prices_copy)"
   ]
  },
  {
   "cell_type": "code",
   "execution_count": 97,
   "metadata": {},
   "outputs": [
    {
     "name": "stdout",
     "output_type": "stream",
     "text": [
      "['apples', 1.99, 'tomatoes', 2.45, 'bread', 0.99, 'milk', 2.45, 'cheese', 4.55]\n",
      "['peaches', 1.99, 'tomatoes', 2.45, 'bread', 0.99, 'milk', 2.45, 'cheese', 4.55]\n"
     ]
    }
   ],
   "source": [
    "# Change new list\n",
    "prices_copy[0] = 'apples'\n",
    "print(prices_copy)\n",
    "print(prices)"
   ]
  },
  {
   "cell_type": "markdown",
   "metadata": {},
   "source": [
    "## Functions & packages"
   ]
  },
  {
   "cell_type": "markdown",
   "metadata": {},
   "source": [
    "### Built-in functions"
   ]
  },
  {
   "cell_type": "code",
   "execution_count": 100,
   "metadata": {},
   "outputs": [
    {
     "name": "stdout",
     "output_type": "stream",
     "text": [
      "<class 'str'>\n",
      "26\n"
     ]
    }
   ],
   "source": [
    "# Functions with one argument\n",
    "print(type('string'))\n",
    "print(int(26.8))"
   ]
  },
  {
   "cell_type": "code",
   "execution_count": 103,
   "metadata": {},
   "outputs": [
    {
     "name": "stdout",
     "output_type": "stream",
     "text": [
      "0\n",
      "0.3333\n"
     ]
    }
   ],
   "source": [
    "# Functions with multiple arguments\n",
    "number = 1/3\n",
    "print(round(number))\n",
    "print(round(number, 4))"
   ]
  },
  {
   "cell_type": "markdown",
   "metadata": {},
   "source": [
    "### String methods"
   ]
  },
  {
   "cell_type": "code",
   "execution_count": 106,
   "metadata": {},
   "outputs": [
    {
     "name": "stdout",
     "output_type": "stream",
     "text": [
      "Stop\n",
      "STOP\n",
      "stop\n"
     ]
    }
   ],
   "source": [
    "# upper() and lower()\n",
    "word = 'Stop'\n",
    "print(word)\n",
    "\n",
    "loud_word = word.upper()\n",
    "print(loud_word)\n",
    "\n",
    "quiet_word = word.lower()\n",
    "print(quiet_word)"
   ]
  },
  {
   "cell_type": "code",
   "execution_count": 111,
   "metadata": {},
   "outputs": [
    {
     "name": "stdout",
     "output_type": "stream",
     "text": [
      "4\n",
      "1\n"
     ]
    }
   ],
   "source": [
    "# index() & count()\n",
    "mood = 'optimistic'\n",
    "\n",
    "print(mood.index('m'))\n",
    "print(mood.count('o'))"
   ]
  },
  {
   "cell_type": "markdown",
   "metadata": {},
   "source": [
    "### List methods"
   ]
  },
  {
   "cell_type": "code",
   "execution_count": 117,
   "metadata": {},
   "outputs": [
    {
     "name": "stdout",
     "output_type": "stream",
     "text": [
      "6\n",
      "2\n"
     ]
    }
   ],
   "source": [
    "# index() & count()\n",
    "fruits = ['apple', 'orange', 'pear', 'plum', 'ananas', 'orange', 'peach']\n",
    "\n",
    "print(fruits.index('peach'))\n",
    "print(fruits.count('orange'))"
   ]
  },
  {
   "cell_type": "code",
   "execution_count": 118,
   "metadata": {},
   "outputs": [
    {
     "name": "stdout",
     "output_type": "stream",
     "text": [
      "['apple', 'orange', 'pear', 'plum', 'ananas', 'orange', 'peach', 'mango']\n"
     ]
    }
   ],
   "source": [
    "# append() \n",
    "fruits.append('mango')\n",
    "print(fruits)"
   ]
  },
  {
   "cell_type": "code",
   "execution_count": 123,
   "metadata": {},
   "outputs": [
    {
     "name": "stdout",
     "output_type": "stream",
     "text": [
      "['ananas', 'apple', 'mango', 'orange', 'orange', 'peach', 'pear', 'plum']\n",
      "['plum', 'pear', 'peach', 'orange', 'orange', 'mango', 'apple', 'ananas']\n",
      "['ananas', 'apple', 'mango', 'orange', 'orange', 'peach', 'pear', 'plum']\n"
     ]
    }
   ],
   "source": [
    "# reverse() & sort()\n",
    "print(fruits)\n",
    "fruits.reverse()\n",
    "print(fruits)\n",
    "\n",
    "fruits.sort()\n",
    "print(fruits)"
   ]
  },
  {
   "cell_type": "markdown",
   "metadata": {},
   "source": [
    "### Packages"
   ]
  },
  {
   "cell_type": "markdown",
   "metadata": {},
   "source": [
    "#### math"
   ]
  },
  {
   "cell_type": "code",
   "execution_count": 134,
   "metadata": {},
   "outputs": [
    {
     "name": "stdout",
     "output_type": "stream",
     "text": [
      "55.41769440932395\n"
     ]
    }
   ],
   "source": [
    "# pi\n",
    "from math import pi\n",
    "r = 4.2\n",
    "s = pi * r**2\n",
    "print(s)"
   ]
  },
  {
   "cell_type": "code",
   "execution_count": 135,
   "metadata": {},
   "outputs": [
    {
     "name": "stdout",
     "output_type": "stream",
     "text": [
      "40320\n"
     ]
    }
   ],
   "source": [
    "# factorial\n",
    "from math import factorial\n",
    "print(factorial(8))"
   ]
  },
  {
   "cell_type": "markdown",
   "metadata": {},
   "source": [
    "#### numpy"
   ]
  },
  {
   "cell_type": "code",
   "execution_count": 144,
   "metadata": {},
   "outputs": [
    {
     "name": "stdout",
     "output_type": "stream",
     "text": [
      "[1, 6, 2, 9, 1, 6, 2, 9]\n",
      "[ 2 12  4 18]\n",
      "\n",
      "[1, 6, 2, 9, 4.2, 5.1, 7.1, 1.8]\n",
      "[ 5.2 11.1  9.1 10.8]\n",
      "\n",
      "[ 4.2 30.6 14.2 16.2]\n"
     ]
    }
   ],
   "source": [
    "# Difference between lists and arrays\n",
    "import numpy as np\n",
    "\n",
    "list_of_numbers = [1, 6, 2, 9]\n",
    "array_of_numbers = np.array(list_of_numbers)\n",
    "\n",
    "print(list_of_numbers * 2)\n",
    "print(array_of_numbers * 2)\n",
    "print()\n",
    "\n",
    "another_list = [4.2, 5.1, 7.1, 1.8]\n",
    "another_array = np.array(another_list)\n",
    "\n",
    "print(list_of_numbers + another_list)\n",
    "print(array_of_numbers + another_array)\n",
    "print()\n",
    "\n",
    "# list_of_numbers * another_list gives TypeError\n",
    "print(array_of_numbers * another_array)"
   ]
  },
  {
   "cell_type": "code",
   "execution_count": 165,
   "metadata": {},
   "outputs": [
    {
     "name": "stdout",
     "output_type": "stream",
     "text": [
      "[3 5 5 4 4 7 3 2 1 1 8 6]\n",
      "[2 1 1]\n",
      "[7 8 6]\n"
     ]
    }
   ],
   "source": [
    "# Sort arrays\n",
    "numbers = np.array([3, 5, 5, 4, 4, 7, 3, 2, 1, 1, 8, 6])\n",
    "print(numbers)\n",
    "print(numbers[numbers < 3])\n",
    "print(numbers[numbers > 5])"
   ]
  },
  {
   "cell_type": "code",
   "execution_count": 168,
   "metadata": {},
   "outputs": [
    {
     "name": "stdout",
     "output_type": "stream",
     "text": [
      "[3 5 5 4 4 7 3 2 1 1 8 6]\n",
      "5\n",
      "[3 5 5 4]\n",
      "[7 3 2]\n"
     ]
    }
   ],
   "source": [
    "# Subset arrays\n",
    "print(numbers)\n",
    "print(numbers[1])\n",
    "print(numbers[:4])\n",
    "print(numbers[5:8])"
   ]
  },
  {
   "cell_type": "code",
   "execution_count": 171,
   "metadata": {},
   "outputs": [
    {
     "name": "stdout",
     "output_type": "stream",
     "text": [
      "[[10.   7.4]\n",
      " [15.  12.7]\n",
      " [21.   9.5]\n",
      " [18.   7.5]]\n",
      "\n",
      "(4, 2)\n"
     ]
    }
   ],
   "source": [
    "# 2D numpy arrays\n",
    "matrix = np.array([[10, 7.4],[15, 12.7],[21, 9.5],[18, 7.5]])\n",
    "print(matrix)\n",
    "print()\n",
    "print(matrix.shape)"
   ]
  },
  {
   "cell_type": "code",
   "execution_count": 176,
   "metadata": {},
   "outputs": [
    {
     "name": "stdout",
     "output_type": "stream",
     "text": [
      "[3 5 5 4 4 7 3 2 1 1 8 6]\n",
      "Average: 4.083333333333333\n",
      "Median: 4.0\n",
      "Standard deviation: 2.1392496088322392\n"
     ]
    }
   ],
   "source": [
    "# Basic statistic with numpy\n",
    "print(numbers)\n",
    "\n",
    "mean = np.mean(numbers)\n",
    "print(\"Average: \" + str(mean))\n",
    "\n",
    "median = np.median(numbers)\n",
    "print(\"Median: \" + str(median))\n",
    "\n",
    "std = np.std(numbers)\n",
    "print(\"Standard deviation: \" + str(std))"
   ]
  },
  {
   "cell_type": "code",
   "execution_count": null,
   "metadata": {},
   "outputs": [],
   "source": []
  }
 ],
 "metadata": {
  "kernelspec": {
   "display_name": "Python 3",
   "language": "python",
   "name": "python3"
  },
  "language_info": {
   "codemirror_mode": {
    "name": "ipython",
    "version": 3
   },
   "file_extension": ".py",
   "mimetype": "text/x-python",
   "name": "python",
   "nbconvert_exporter": "python",
   "pygments_lexer": "ipython3",
   "version": "3.6.4"
  }
 },
 "nbformat": 4,
 "nbformat_minor": 2
}
